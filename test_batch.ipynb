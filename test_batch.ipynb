{
 "cells": [
  {
   "cell_type": "code",
   "execution_count": 1,
   "metadata": {},
   "outputs": [
    {
     "name": "stdout",
     "output_type": "stream",
     "text": [
      "(640, 480, 3)\n"
     ]
    }
   ],
   "source": [
    "import numpy as np\n",
    "samples = np.zeros((640, 480, 3))\n",
    "print(samples.shape)"
   ]
  },
  {
   "cell_type": "code",
   "execution_count": 2,
   "metadata": {},
   "outputs": [
    {
     "name": "stdout",
     "output_type": "stream",
     "text": [
      "(1, 640, 480, 3)\n"
     ]
    }
   ],
   "source": [
    "# how to add one dimension to samples?\n",
    "# i.e. (640, 480, 3) -> (1, 640, 480, 3)\n",
    "batch = np.expand_dims(samples, axis=0)\n",
    "print(batch.shape)"
   ]
  },
  {
   "cell_type": "code",
   "execution_count": 3,
   "metadata": {},
   "outputs": [
    {
     "name": "stdout",
     "output_type": "stream",
     "text": [
      "(1, 640, 480, 3)\n"
     ]
    }
   ],
   "source": [
    "# another way to add one dimension\n",
    "batch = samples[np.newaxis, :]\n",
    "print(batch.shape)"
   ]
  },
  {
   "cell_type": "code",
   "execution_count": 6,
   "metadata": {},
   "outputs": [
    {
     "name": "stdout",
     "output_type": "stream",
     "text": [
      "(1, 480, 640, 3)\n"
     ]
    }
   ],
   "source": [
    "# how to change the shape from (1, 640, 480, 3) to (1, 480, 640, 3)?\n",
    "sbatch = np.swapaxes(batch, 1, 2)\n",
    "print(sbatch.shape)"
   ]
  },
  {
   "cell_type": "code",
   "execution_count": 8,
   "metadata": {},
   "outputs": [
    {
     "name": "stdout",
     "output_type": "stream",
     "text": [
      "(640, 480, 3)\n"
     ]
    }
   ],
   "source": [
    "# how to remove single-dimensional entries in the shape?\n",
    "# i.e. from (1, 640, 480, 3) -> (640, 480, 3)\n",
    "sbatch = np.squeeze(batch, axis=0)\n",
    "print(sbatch.shape)"
   ]
  }
 ],
 "metadata": {
  "kernelspec": {
   "display_name": "Python 3",
   "language": "python",
   "name": "python3"
  },
  "language_info": {
   "codemirror_mode": {
    "name": "ipython",
    "version": 3
   },
   "file_extension": ".py",
   "mimetype": "text/x-python",
   "name": "python",
   "nbconvert_exporter": "python",
   "pygments_lexer": "ipython3",
   "version": "3.6.7"
  }
 },
 "nbformat": 4,
 "nbformat_minor": 2
}
