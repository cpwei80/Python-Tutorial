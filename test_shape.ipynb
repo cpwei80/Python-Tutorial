{
 "cells": [
  {
   "cell_type": "code",
   "execution_count": null,
   "metadata": {},
   "outputs": [],
   "source": [
    "import numpy as np\n",
    "\n",
    "x1 = np.array([1,2,3])\n",
    "print(x1.shape)\n",
    "\n",
    "x2 = np.array([[1,2,3]])\n",
    "print(x2.shape)\n",
    "\n",
    "x3 = np.array([[1], [2], [3]])\n",
    "print(x3.shape)"
   ]
  },
  {
   "cell_type": "code",
   "execution_count": null,
   "metadata": {},
   "outputs": [],
   "source": [
    "A = np.array([[1,2,3],\n",
    "              [4,5,6]])\n",
    "print(A.shape)\n",
    "print(A.dot(x3).shape)\n",
    "print(A.dot(x1).shape)"
   ]
  },
  {
   "cell_type": "code",
   "execution_count": null,
   "metadata": {},
   "outputs": [],
   "source": [
    "print(A)\n",
    "print(A[0,1]) # rank 0 \n",
    "print(A[0,1:2]) # rank 1"
   ]
  },
  {
   "cell_type": "code",
   "execution_count": null,
   "metadata": {},
   "outputs": [],
   "source": [
    "S = np.zeros((2,1,3))\n",
    "print(S.shape)\n",
    "print(S[0,:,:].shape)\n",
    "print(S[0].shape)\n",
    "print(S[:,0,:].shape)\n",
    "print(S[0,0,0].shape)"
   ]
  },
  {
   "cell_type": "code",
   "execution_count": null,
   "metadata": {},
   "outputs": [],
   "source": [
    "Z = []\n",
    "for i in range(10):\n",
    "    Z.append(np.zeros((2,3)))\n",
    "print(type(Z), len(Z), Z[0].shape)\n",
    "Z = np.array(Z)\n",
    "print(Z.shape)\n",
    "\n",
    "Y = np.zeros((10,2,3))\n",
    "for i in range(10):\n",
    "    Y[i] = np.zeros((2,3))\n",
    "print(Y.shape)    "
   ]
  }
 ],
 "metadata": {
  "kernelspec": {
   "display_name": "Python 3",
   "language": "python",
   "name": "python3"
  },
  "language_info": {
   "codemirror_mode": {
    "name": "ipython",
    "version": 3
   },
   "file_extension": ".py",
   "mimetype": "text/x-python",
   "name": "python",
   "nbconvert_exporter": "python",
   "pygments_lexer": "ipython3",
   "version": "3.7.3"
  }
 },
 "nbformat": 4,
 "nbformat_minor": 2
}
