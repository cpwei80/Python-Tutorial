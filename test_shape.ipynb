{
 "cells": [
  {
   "cell_type": "code",
   "execution_count": 4,
   "metadata": {},
   "outputs": [
    {
     "name": "stdout",
     "output_type": "stream",
     "text": [
      "(3,)\n",
      "(1, 3)\n",
      "(3, 1)\n"
     ]
    }
   ],
   "source": [
    "import numpy as np\n",
    "\n",
    "x1 = np.array([1,2,3])\n",
    "print(x1.shape)\n",
    "\n",
    "x2 = np.array([[1,2,3]])\n",
    "print(x2.shape)\n",
    "\n",
    "x3 = np.array([[1], [2], [3]])\n",
    "print(x3.shape)"
   ]
  },
  {
   "cell_type": "code",
   "execution_count": 6,
   "metadata": {},
   "outputs": [
    {
     "name": "stdout",
     "output_type": "stream",
     "text": [
      "[[1 2 3]\n",
      " [4 5 6]]\n",
      "(2, 1)\n",
      "(2,)\n"
     ]
    }
   ],
   "source": [
    "A = np.array([[1,2,3],\n",
    "             [4,5,6]])\n",
    "print(A)\n",
    "print(A.dot(x3).shape)\n",
    "#print(A.dot(x2).shape) #illegal\n",
    "print(A.dot(x1).shape)"
   ]
  },
  {
   "cell_type": "code",
   "execution_count": 8,
   "metadata": {},
   "outputs": [
    {
     "name": "stdout",
     "output_type": "stream",
     "text": [
      "2\n",
      "[2]\n"
     ]
    }
   ],
   "source": [
    "print(A[0,1]) # rank 0\n",
    "print(A[0,1:2]) # rank 1"
   ]
  },
  {
   "cell_type": "code",
   "execution_count": 12,
   "metadata": {},
   "outputs": [
    {
     "name": "stdout",
     "output_type": "stream",
     "text": [
      "S (2, 1, 3)\n",
      "S[0,:,:] (1, 3)\n",
      "S[0] (1, 3)\n",
      "S[:,0,:] (2, 3)\n",
      "S[0,0,0] ()\n"
     ]
    }
   ],
   "source": [
    "S = np.zeros((2,1,3))\n",
    "print('S', S.shape)\n",
    "print('S[0,:,:]', S[0,:,:].shape)\n",
    "print('S[0]', S[0].shape)\n",
    "print('S[:,0,:]', S[:,0,:].shape)\n",
    "print('S[0,0,0]', S[0,0,0].shape) # scalar"
   ]
  },
  {
   "cell_type": "code",
   "execution_count": 10,
   "metadata": {},
   "outputs": [
    {
     "name": "stdout",
     "output_type": "stream",
     "text": [
      "<class 'list'> 10 (2, 3)\n",
      "Z: (10, 2, 3)\n",
      "Y: (10, 2, 3)\n"
     ]
    }
   ],
   "source": [
    "Z = []\n",
    "for i in range(10):\n",
    "    Z.append(np.zeros((2,3)))\n",
    "print(type(Z), len(Z), Z[0].shape)\n",
    "Z = np.array(Z)\n",
    "print('Z:', Z.shape)\n",
    "\n",
    "Y = np.zeros((10,2,3))\n",
    "for i in range(10):\n",
    "    Y[i] = np.zeros((2,3))\n",
    "print('Y:', Y.shape)    "
   ]
  }
 ],
 "metadata": {
  "kernelspec": {
   "display_name": "Python 3",
   "language": "python",
   "name": "python3"
  },
  "language_info": {
   "codemirror_mode": {
    "name": "ipython",
    "version": 3
   },
   "file_extension": ".py",
   "mimetype": "text/x-python",
   "name": "python",
   "nbconvert_exporter": "python",
   "pygments_lexer": "ipython3",
   "version": "3.6.7"
  }
 },
 "nbformat": 4,
 "nbformat_minor": 2
}
